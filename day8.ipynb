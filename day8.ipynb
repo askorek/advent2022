{
 "cells": [
  {
   "cell_type": "code",
   "execution_count": 1,
   "metadata": {},
   "outputs": [],
   "source": [
    "import numpy as np"
   ]
  },
  {
   "cell_type": "code",
   "execution_count": 2,
   "metadata": {},
   "outputs": [],
   "source": [
    "with open(\"day8.txt\") as f:\n",
    "    data = f.readlines()\n",
    "data = [line[:-1] for line in data]  # strip /n"
   ]
  },
  {
   "cell_type": "code",
   "execution_count": 3,
   "metadata": {},
   "outputs": [],
   "source": [
    "width = len(data[0])\n",
    "height = len(data)\n"
   ]
  },
  {
   "cell_type": "code",
   "execution_count": 4,
   "metadata": {},
   "outputs": [],
   "source": [
    "is_visible = np.full((height, width), False)"
   ]
  },
  {
   "cell_type": "code",
   "execution_count": 5,
   "metadata": {},
   "outputs": [],
   "source": [
    "trees = np.empty((height, width))\n",
    "for line_num, line in enumerate(data):\n",
    "    for column_num, char in enumerate(line):\n",
    "        trees[line_num][column_num] = int(char)"
   ]
  },
  {
   "cell_type": "code",
   "execution_count": 6,
   "metadata": {},
   "outputs": [],
   "source": [
    "def check_if_visible_horizontal(is_visible, trees):\n",
    "    height = len(trees)\n",
    "    lenght = len(trees[0])\n",
    "\n",
    "    for i in range(height):\n",
    "        for j in range(lenght):\n",
    "            if is_visible[i,j] == True:\n",
    "                continue\n",
    "            if i == 0 or j == 0 or i == height - 1 or j == height - 1:\n",
    "                is_visible[i,j] = True\n",
    "                continue\n",
    "            left = set(trees[i, :j])\n",
    "            right = set(trees[i, j+1:])\n",
    "            current = trees[i,j]\n",
    "\n",
    "            if all([x < current for x in left]) or all([x < current for x in right]):\n",
    "                is_visible[i,j] = True"
   ]
  },
  {
   "cell_type": "code",
   "execution_count": 7,
   "metadata": {},
   "outputs": [],
   "source": [
    "check_if_visible_horizontal(is_visible, trees)"
   ]
  },
  {
   "cell_type": "code",
   "execution_count": 8,
   "metadata": {},
   "outputs": [],
   "source": [
    "trees = trees.transpose()\n",
    "is_visible = is_visible.transpose()\n",
    "check_if_visible_horizontal(is_visible, trees)\n",
    "is_visible = is_visible.transpose()\n",
    "trees = trees.transpose()"
   ]
  },
  {
   "cell_type": "code",
   "execution_count": 9,
   "metadata": {},
   "outputs": [
    {
     "data": {
      "text/plain": [
       "1695"
      ]
     },
     "execution_count": 9,
     "metadata": {},
     "output_type": "execute_result"
    }
   ],
   "source": [
    "sum(sum(is_visible))"
   ]
  },
  {
   "cell_type": "code",
   "execution_count": 10,
   "metadata": {},
   "outputs": [],
   "source": [
    "def distance_up(i, j, trees):\n",
    "    distance = 0\n",
    "    size = trees[i,j]\n",
    "    current = i - 1\n",
    "\n",
    "    if i == 0:\n",
    "        return 0\n",
    "\n",
    "    while True:\n",
    "        distance += 1\n",
    "        if current == 0 or size <= trees[current, j]:\n",
    "            return distance\n",
    "        current -= 1\n",
    "    return distance"
   ]
  },
  {
   "cell_type": "code",
   "execution_count": 11,
   "metadata": {},
   "outputs": [],
   "source": [
    "def distance_down(i, j, trees):\n",
    "    distance = 0\n",
    "    size = trees[i,j]\n",
    "    current = i + 1\n",
    "\n",
    "    if i == len(trees) - 1:\n",
    "        return 0\n",
    "\n",
    "    while True:\n",
    "        distance += 1\n",
    "        if current == len(trees) - 1 or size <= trees[current, j]:\n",
    "            return distance\n",
    "        current += 1\n",
    "    return distance"
   ]
  },
  {
   "cell_type": "code",
   "execution_count": 12,
   "metadata": {},
   "outputs": [],
   "source": [
    "def distance_left(i, j, trees):\n",
    "    distance = 0\n",
    "    size = trees[i,j]\n",
    "    current = j - 1\n",
    "\n",
    "    if j == 0:\n",
    "        return 0\n",
    "\n",
    "    while True:\n",
    "        distance += 1\n",
    "        if current == 0 or size <= trees[i, current]:\n",
    "            return distance\n",
    "        current -= 1\n",
    "    return distance"
   ]
  },
  {
   "cell_type": "code",
   "execution_count": 13,
   "metadata": {},
   "outputs": [],
   "source": [
    "def distance_right(i, j, trees):\n",
    "    distance = 0\n",
    "    size = trees[i,j]\n",
    "    current = j + 1\n",
    "\n",
    "    if j == len(trees[0]) - 1:\n",
    "        return 0\n",
    "\n",
    "    while True:\n",
    "        distance += 1\n",
    "        if current == len(trees[0]) - 1 or size <= trees[i, current]:\n",
    "            return distance\n",
    "        current += 1\n",
    "    return distance"
   ]
  },
  {
   "cell_type": "code",
   "execution_count": 14,
   "metadata": {},
   "outputs": [
    {
     "name": "stdout",
     "output_type": "stream",
     "text": [
      "287040\n"
     ]
    }
   ],
   "source": [
    "best = 0\n",
    "for i in range(len(trees)):\n",
    "    for j in range(len(trees[0])):\n",
    "        score = distance_down(i, j, trees) * distance_up(i, j, trees) * distance_left(i, j, trees) * distance_right(i, j, trees)\n",
    "        if score > best:\n",
    "            best = score\n",
    "print(best)"
   ]
  }
 ],
 "metadata": {
  "kernelspec": {
   "display_name": ".venv",
   "language": "python",
   "name": "python3"
  },
  "language_info": {
   "codemirror_mode": {
    "name": "ipython",
    "version": 3
   },
   "file_extension": ".py",
   "mimetype": "text/x-python",
   "name": "python",
   "nbconvert_exporter": "python",
   "pygments_lexer": "ipython3",
   "version": "3.11.1"
  },
  "orig_nbformat": 4,
  "vscode": {
   "interpreter": {
    "hash": "1cc55d757c2f650ebe1a3b844a5e162f6c7d4c23a2d67aeb48d9351c0ead1aff"
   }
  }
 },
 "nbformat": 4,
 "nbformat_minor": 2
}
