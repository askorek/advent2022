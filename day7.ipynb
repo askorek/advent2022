{
 "cells": [
  {
   "cell_type": "code",
   "execution_count": 1,
   "metadata": {},
   "outputs": [],
   "source": [
    "class Directory(object):\n",
    "\n",
    "    list_of_sizes = []\n",
    "    \n",
    "    def __init__(self, name):\n",
    "        self.name = name\n",
    "        self.dirs = dict()\n",
    "        self.files = dict()\n",
    "        self.parent = None\n",
    "        self.total_size = 0\n",
    "        self.total_walk_size = 0\n",
    "\n",
    "    def add_dir(self, dirname):\n",
    "        if dirname not in self.dirs:\n",
    "            self.dirs[dirname] = Directory(dirname)\n",
    "            self.dirs[dirname].parent = self\n",
    "\n",
    "    def add_file(self, filename, filesize):\n",
    "        if filename not in self.files:\n",
    "            self.files[filename] = int(filesize)\n",
    "\n",
    "    def get_total_size(self):\n",
    "        total_size = 0\n",
    "        for file in self.files:\n",
    "            total_size += int(self.files[file])\n",
    "        for directory in self.dirs:\n",
    "            total_size += self.dirs[directory].get_total_size()\n",
    "        self.total_size = total_size\n",
    "\n",
    "        return total_size\n",
    "    \n",
    "    def get_total_walk_size(self):\n",
    "        total_walk_size = 0\n",
    "        ss = self.get_total_size()\n",
    "        if ss <= 100000:\n",
    "            total_walk_size += ss\n",
    "\n",
    "        for dir in self.dirs:\n",
    "            total_walk_size += self.dirs[dir].get_total_walk_size()\n",
    "        return total_walk_size\n",
    "\n",
    "    def get_dirs_larger(self, condition):\n",
    "        size = self.get_total_size()\n",
    "        if size < condition:\n",
    "            self.list_of_sizes.append(size)\n",
    "        for dir in self.dirs:\n",
    "            self.dirs[dir].get_dirs_larger(condition)\n",
    "        return\n",
    "\n",
    "            "
   ]
  },
  {
   "cell_type": "code",
   "execution_count": 2,
   "metadata": {},
   "outputs": [],
   "source": [
    "def parse_ls_line(line):\n",
    "    global current_dir\n",
    "    if line.startswith(\"dir\"):\n",
    "        _, name = line.split(\" \")\n",
    "        current_dir.add_dir(name)\n",
    "    else:\n",
    "        size, filename = line.split(\" \")\n",
    "        current_dir.add_file(filename, size)"
   ]
  },
  {
   "cell_type": "code",
   "execution_count": 3,
   "metadata": {},
   "outputs": [],
   "source": [
    "def parse_cd_line(line):\n",
    "    global current_dir\n",
    "    _, _, dirname = line.split(\" \")\n",
    "    if dirname == \"..\":\n",
    "        current_dir = current_dir.parent\n",
    "    else:\n",
    "        current_dir = current_dir.dirs[dirname]"
   ]
  },
  {
   "cell_type": "code",
   "execution_count": 4,
   "metadata": {},
   "outputs": [],
   "source": [
    "def parse_line(line):\n",
    "    global current_dir\n",
    "    #print(line)\n",
    "    if line.startswith(\"$ cd /\"):\n",
    "        current_dir = root_dir\n",
    "    elif line.startswith(\"$ cd\"):\n",
    "        parse_cd_line(line)\n",
    "    elif line.startswith('$ ls'):\n",
    "        return\n",
    "    else:\n",
    "        parse_ls_line(line)\n"
   ]
  },
  {
   "cell_type": "code",
   "execution_count": 5,
   "metadata": {},
   "outputs": [],
   "source": [
    "with open(\"day7.txt\") as f:\n",
    "    data = f.readlines()\n",
    "data = [line[:-1] for line in data]  # strip /n"
   ]
  },
  {
   "cell_type": "code",
   "execution_count": 6,
   "metadata": {},
   "outputs": [],
   "source": [
    "root_dir = Directory('/')\n",
    "current_dir = root_dir\n",
    "\n",
    "for line in data:\n",
    "    parse_line(line)"
   ]
  },
  {
   "cell_type": "code",
   "execution_count": 7,
   "metadata": {},
   "outputs": [
    {
     "data": {
      "text/plain": [
       "1517599"
      ]
     },
     "execution_count": 7,
     "metadata": {},
     "output_type": "execute_result"
    }
   ],
   "source": [
    "root_dir.get_total_walk_size()"
   ]
  },
  {
   "cell_type": "code",
   "execution_count": 8,
   "metadata": {},
   "outputs": [
    {
     "data": {
      "text/plain": [
       "2476859"
      ]
     },
     "execution_count": 8,
     "metadata": {},
     "output_type": "execute_result"
    }
   ],
   "source": [
    "total = root_dir.get_total_size()\n",
    "unused = 70000000 - total\n",
    "needed = 30000000 - unused\n",
    "needed"
   ]
  },
  {
   "cell_type": "code",
   "execution_count": 9,
   "metadata": {},
   "outputs": [
    {
     "ename": "TypeError",
     "evalue": "'<' not supported between instances of 'method' and 'int'",
     "output_type": "error",
     "traceback": [
      "\u001b[1;31m---------------------------------------------------------------------------\u001b[0m",
      "\u001b[1;31mTypeError\u001b[0m                                 Traceback (most recent call last)",
      "Cell \u001b[1;32mIn[9], line 1\u001b[0m\n\u001b[1;32m----> 1\u001b[0m root_dir\u001b[39m.\u001b[39;49mget_dirs_larger(needed)\n",
      "Cell \u001b[1;32mIn[1], line 44\u001b[0m, in \u001b[0;36mDirectory.get_dirs_larger\u001b[1;34m(self, condition)\u001b[0m\n\u001b[0;32m     42\u001b[0m \u001b[39mdef\u001b[39;00m \u001b[39mget_dirs_larger\u001b[39m(\u001b[39mself\u001b[39m, condition):\n\u001b[0;32m     43\u001b[0m     size \u001b[39m=\u001b[39m \u001b[39mself\u001b[39m\u001b[39m.\u001b[39mget_total_size\n\u001b[1;32m---> 44\u001b[0m     \u001b[39mif\u001b[39;00m size \u001b[39m<\u001b[39;49m condition:\n\u001b[0;32m     45\u001b[0m         \u001b[39mself\u001b[39m\u001b[39m.\u001b[39mlist_of_sizes\u001b[39m.\u001b[39mappend(size)\n\u001b[0;32m     46\u001b[0m     \u001b[39mfor\u001b[39;00m \u001b[39mdir\u001b[39m \u001b[39min\u001b[39;00m \u001b[39mself\u001b[39m\u001b[39m.\u001b[39mdirs:\n",
      "\u001b[1;31mTypeError\u001b[0m: '<' not supported between instances of 'method' and 'int'"
     ]
    }
   ],
   "source": [
    "root_dir.get_dirs_larger(needed)"
   ]
  }
 ],
 "metadata": {
  "kernelspec": {
   "display_name": ".venv",
   "language": "python",
   "name": "python3"
  },
  "language_info": {
   "codemirror_mode": {
    "name": "ipython",
    "version": 3
   },
   "file_extension": ".py",
   "mimetype": "text/x-python",
   "name": "python",
   "nbconvert_exporter": "python",
   "pygments_lexer": "ipython3",
   "version": "3.11.1"
  },
  "orig_nbformat": 4,
  "vscode": {
   "interpreter": {
    "hash": "1cc55d757c2f650ebe1a3b844a5e162f6c7d4c23a2d67aeb48d9351c0ead1aff"
   }
  }
 },
 "nbformat": 4,
 "nbformat_minor": 2
}
