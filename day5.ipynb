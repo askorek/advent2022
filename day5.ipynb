{
 "cells": [
  {
   "cell_type": "code",
   "execution_count": 31,
   "metadata": {},
   "outputs": [],
   "source": [
    "import pandas as pd\n",
    "import re"
   ]
  },
  {
   "cell_type": "code",
   "execution_count": 32,
   "metadata": {},
   "outputs": [],
   "source": [
    "with open(\"day5.txt\") as f:\n",
    "    data = f.readlines()\n",
    "data = [line[:-1] for line in data]  # strip /n"
   ]
  },
  {
   "cell_type": "code",
   "execution_count": 33,
   "metadata": {},
   "outputs": [],
   "source": [
    "letters = pd.DataFrame(index=range(8), columns=range(9))"
   ]
  },
  {
   "cell_type": "code",
   "execution_count": 34,
   "metadata": {},
   "outputs": [],
   "source": [
    "for line_inx, line in enumerate(data):\n",
    "    if line.startswith('['):\n",
    "        for i in range(len(line)//4 + 1):\n",
    "            if line[4*i:4*i+3] != '    ':\n",
    "                letters[i][line_inx] = line[4*i+1]\n",
    "            \n",
    "                    \n"
   ]
  },
  {
   "cell_type": "code",
   "execution_count": 35,
   "metadata": {},
   "outputs": [],
   "source": [
    "letters = letters.transpose()"
   ]
  },
  {
   "cell_type": "code",
   "execution_count": 36,
   "metadata": {},
   "outputs": [],
   "source": [
    "letters_list = letters.values.tolist()"
   ]
  },
  {
   "cell_type": "code",
   "execution_count": 37,
   "metadata": {},
   "outputs": [],
   "source": [
    "for i, line in enumerate(letters_list):\n",
    "    letters_list[i] = letters_list[i].reverse()\n",
    "    letters_list[i] = ''.join(line)\n",
    "    letters_list[i] = letters_list[i].strip()\n",
    "    letters_list[i] = list(letters_list[i])\n"
   ]
  },
  {
   "cell_type": "code",
   "execution_count": 38,
   "metadata": {},
   "outputs": [],
   "source": [
    "letters_list_part2 = [x[:] for x in letters_list]"
   ]
  },
  {
   "cell_type": "code",
   "execution_count": 39,
   "metadata": {},
   "outputs": [],
   "source": [
    "def move_one_letter(start, end, letters_list):\n",
    "    a = letters_list[start - 1].pop()\n",
    "    letters_list[end - 1].append(a)"
   ]
  },
  {
   "cell_type": "code",
   "execution_count": 40,
   "metadata": {},
   "outputs": [],
   "source": [
    "def move_N_letters(N, start, end, letters_list):\n",
    "    for _ in range(N):\n",
    "        move_one_letter(start, end, letters_list)"
   ]
  },
  {
   "cell_type": "code",
   "execution_count": 41,
   "metadata": {},
   "outputs": [],
   "source": [
    "def parse_transport_line(line):\n",
    "    reg = r'move (\\d+) from (\\d+) to (\\d+)'\n",
    "    ss = re.search(reg, line)\n",
    "    return int(ss[1]), int(ss[2]), int(ss[3])"
   ]
  },
  {
   "cell_type": "code",
   "execution_count": 42,
   "metadata": {},
   "outputs": [],
   "source": [
    "for line in data:\n",
    "    if line.startswith('move'):\n",
    "        N, start, end = parse_transport_line(line)\n",
    "        move_N_letters(N, start, end, letters_list)"
   ]
  },
  {
   "cell_type": "code",
   "execution_count": 43,
   "metadata": {},
   "outputs": [
    {
     "name": "stdout",
     "output_type": "stream",
     "text": [
      "VWLCWGSDQ\n"
     ]
    }
   ],
   "source": [
    "result = []\n",
    "for line in letters_list:\n",
    "    result += [line[-1]]\n",
    "print(''.join(result))"
   ]
  },
  {
   "cell_type": "code",
   "execution_count": 44,
   "metadata": {},
   "outputs": [],
   "source": [
    "def move_N_letters_part2(N, start, end, letters_list):\n",
    "    \n",
    "    a = letters_list[start - 1][-N:]\n",
    "    letters_list[start - 1] = letters_list[start - 1][:-N]\n",
    "    letters_list[end - 1] = letters_list[end - 1] + a"
   ]
  },
  {
   "cell_type": "code",
   "execution_count": 45,
   "metadata": {},
   "outputs": [],
   "source": [
    "for line in data:\n",
    "    if line.startswith('move'):\n",
    "        N, start, end = parse_transport_line(line)\n",
    "        move_N_letters_part2(N, start, end, letters_list_part2)"
   ]
  },
  {
   "cell_type": "code",
   "execution_count": 46,
   "metadata": {},
   "outputs": [
    {
     "name": "stdout",
     "output_type": "stream",
     "text": [
      "TCGLQSLPW\n"
     ]
    }
   ],
   "source": [
    "result = []\n",
    "for line in letters_list_part2:\n",
    "    result += [line[-1]]\n",
    "print(''.join(result))"
   ]
  }
 ],
 "metadata": {
  "kernelspec": {
   "display_name": ".venv",
   "language": "python",
   "name": "python3"
  },
  "language_info": {
   "codemirror_mode": {
    "name": "ipython",
    "version": 3
   },
   "file_extension": ".py",
   "mimetype": "text/x-python",
   "name": "python",
   "nbconvert_exporter": "python",
   "pygments_lexer": "ipython3",
   "version": "3.11.1 (tags/v3.11.1:a7a450f, Dec  6 2022, 19:58:39) [MSC v.1934 64 bit (AMD64)]"
  },
  "orig_nbformat": 4,
  "vscode": {
   "interpreter": {
    "hash": "1cc55d757c2f650ebe1a3b844a5e162f6c7d4c23a2d67aeb48d9351c0ead1aff"
   }
  }
 },
 "nbformat": 4,
 "nbformat_minor": 2
}
