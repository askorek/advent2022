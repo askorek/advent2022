{
 "cells": [
  {
   "cell_type": "code",
   "execution_count": 37,
   "metadata": {},
   "outputs": [],
   "source": [
    "with open(\"day6.txt\") as f:\n",
    "    data = f.readlines()\n",
    "data = [line[:-1] for line in data]  # strip /n"
   ]
  },
  {
   "cell_type": "code",
   "execution_count": 38,
   "metadata": {},
   "outputs": [],
   "source": [
    "data = data[0]"
   ]
  },
  {
   "cell_type": "code",
   "execution_count": 39,
   "metadata": {},
   "outputs": [
    {
     "name": "stdout",
     "output_type": "stream",
     "text": [
      "1892\n"
     ]
    }
   ],
   "source": [
    "for i, char in enumerate(data):\n",
    "    stream = data[i:i+4]\n",
    "    if len(set(stream)) == 4:\n",
    "        print(i+4)\n",
    "        break"
   ]
  },
  {
   "cell_type": "code",
   "execution_count": 40,
   "metadata": {},
   "outputs": [
    {
     "name": "stdout",
     "output_type": "stream",
     "text": [
      "2313\n"
     ]
    }
   ],
   "source": [
    "for i, char in enumerate(data):\n",
    "    stream = data[i:i+14]\n",
    "    if len(set(stream)) == 14:\n",
    "        print(i+14)\n",
    "        break"
   ]
  }
 ],
 "metadata": {
  "kernelspec": {
   "display_name": ".venv",
   "language": "python",
   "name": "python3"
  },
  "language_info": {
   "codemirror_mode": {
    "name": "ipython",
    "version": 3
   },
   "file_extension": ".py",
   "mimetype": "text/x-python",
   "name": "python",
   "nbconvert_exporter": "python",
   "pygments_lexer": "ipython3",
   "version": "3.11.1 (tags/v3.11.1:a7a450f, Dec  6 2022, 19:58:39) [MSC v.1934 64 bit (AMD64)]"
  },
  "orig_nbformat": 4,
  "vscode": {
   "interpreter": {
    "hash": "1cc55d757c2f650ebe1a3b844a5e162f6c7d4c23a2d67aeb48d9351c0ead1aff"
   }
  }
 },
 "nbformat": 4,
 "nbformat_minor": 2
}
